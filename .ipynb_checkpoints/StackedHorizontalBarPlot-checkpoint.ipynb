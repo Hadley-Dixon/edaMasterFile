{
 "cells": [
  {
   "cell_type": "markdown",
   "id": "2188fcdc-4e70-4036-9e33-361dc55211c5",
   "metadata": {},
   "source": [
    "# Lecture Accumulation"
   ]
  },
  {
   "cell_type": "code",
   "execution_count": 9,
   "id": "74f361cd-f0bf-466f-a404-a6ebc9a1efc7",
   "metadata": {},
   "outputs": [],
   "source": [
    "import numpy as np\n",
    "import pandas as plt\n",
    "import matplotlib.pyplot as plt"
   ]
  },
  {
   "cell_type": "markdown",
   "id": "1373832d-44f5-4435-9ef1-9bf7b41bacb9",
   "metadata": {},
   "source": [
    "## Lecture 1A"
   ]
  },
  {
   "cell_type": "code",
   "execution_count": null,
   "id": "3a026fac-2b56-4254-ac48-0f760bdb9da7",
   "metadata": {},
   "outputs": [],
   "source": [
    "high = np.array([ 337, 628,   722,  636,  649,  510,  351])\n",
    "med  = np.array([ 969, 1950, 2077, 1886, 1905, 1479,  942])\n",
    "low  = np.array([2866, 5643, 6425, 5521, 4897, 4845, 3179])\n",
    "x = np.arange(1,8)\n",
    "\n",
    "fig, ax = plt.subplots(figsize=(10,6))\n",
    "\n",
    "ax.barh(x, high, label='High', color='#2270e6')\n",
    "ax.barh(x, med, left=high, label='Medium', color='#a9b9d1')\n",
    "ax.barh(x, low, left=high+med, label='Low', color='#ced2d9')\n",
    "ax.set_yticklabels(['','Monday','Tuesday','Wednesday','Thursday','Friday','Saturday','Sunday'])\n",
    "\n",
    "ax.set_ylabel('Day of the week')\n",
    "ax.set_title('Average number of listings per interest level', x=.235,y=1.1)\n",
    "\n",
    "ax.spines['bottom'].set_visible(False)\n",
    "ax.spines['right'].set_visible(False)\n",
    "\n",
    "ax.grid(axis='x', color='w')\n",
    "ax.tick_params(top=True, labeltop=True, bottom=False, labelbottom=False)\n",
    "\n",
    "ax.yaxis.set_label_coords(-0.105,0.85)\n",
    "\n",
    "ax.legend()"
   ]
  }
 ],
 "metadata": {
  "kernelspec": {
   "display_name": "Python 3 (ipykernel)",
   "language": "python",
   "name": "python3"
  },
  "language_info": {
   "codemirror_mode": {
    "name": "ipython",
    "version": 3
   },
   "file_extension": ".py",
   "mimetype": "text/x-python",
   "name": "python",
   "nbconvert_exporter": "python",
   "pygments_lexer": "ipython3",
   "version": "3.11.7"
  }
 },
 "nbformat": 4,
 "nbformat_minor": 5
}
